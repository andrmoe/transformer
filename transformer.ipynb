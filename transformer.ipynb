{
 "cells": [
  {
   "cell_type": "code",
   "id": "initial_id",
   "metadata": {
    "collapsed": true,
    "ExecuteTime": {
     "end_time": "2024-12-15T20:24:26.482955Z",
     "start_time": "2024-12-15T20:24:19.232843Z"
    }
   },
   "source": "from generate_text import TextGenerator",
   "outputs": [],
   "execution_count": 1
  },
  {
   "metadata": {
    "ExecuteTime": {
     "end_time": "2024-12-15T20:24:51.618090Z",
     "start_time": "2024-12-15T20:24:48.541831Z"
    }
   },
   "cell_type": "code",
   "source": "t = TextGenerator()",
   "id": "7752834ccf2795d2",
   "outputs": [],
   "execution_count": 2
  },
  {
   "metadata": {
    "ExecuteTime": {
     "end_time": "2024-12-15T20:51:48.070961Z",
     "start_time": "2024-12-15T20:51:44.878763Z"
    }
   },
   "cell_type": "code",
   "source": "print(t.generate(\"He \"))",
   "id": "9fa60ee8903b048c",
   "outputs": [
    {
     "name": "stdout",
     "output_type": "stream",
     "text": [
      "He felt medzield of Cember than Goldence, and for\n",
      "the wide of Horn ala of Holger Carric fell and was Ileane. To-day whisker,\n",
      "O order they laughed then, losleers, watching and so Chriing and\n",
      "it was a direction. Infeeling a pecially shot of work at putting up the\n",
      "Fakine away, recspicing a drift fish in the norther-first and was awaken\n",
      "in them from it, but in this time, a \n"
     ]
    }
   ],
   "execution_count": 7
  }
 ],
 "metadata": {
  "kernelspec": {
   "display_name": "Python 3",
   "language": "python",
   "name": "python3"
  },
  "language_info": {
   "codemirror_mode": {
    "name": "ipython",
    "version": 2
   },
   "file_extension": ".py",
   "mimetype": "text/x-python",
   "name": "python",
   "nbconvert_exporter": "python",
   "pygments_lexer": "ipython2",
   "version": "2.7.6"
  }
 },
 "nbformat": 4,
 "nbformat_minor": 5
}
